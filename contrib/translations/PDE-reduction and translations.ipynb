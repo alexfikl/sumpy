{
 "cells": [
  {
   "cell_type": "code",
   "execution_count": 35,
   "metadata": {},
   "outputs": [],
   "source": [
    "import pyopencl as cl\n",
    "import sumpy.toys as t\n",
    "import numpy as np\n",
    "import numpy.linalg as la\n",
    "import matplotlib.pyplot as plt\n",
    "from sumpy.visualization import FieldPlotter\n",
    "from pytools import add_tuples\n",
    "\n",
    "from sumpy.expansion.local import VolumeTaylorLocalExpansion\n",
    "from sumpy.expansion.multipole import VolumeTaylorMultipoleExpansion\n",
    "from sumpy.kernel import (YukawaKernel, HelmholtzKernel, LaplaceKernel)\n",
    "\n",
    "order = 4\n",
    "\n",
    "if 0:\n",
    "    knl = LaplaceKernel(2)\n",
    "    pde = [(1, (2,0)), (1, (0, 2))]\n",
    "    extra_kernel_kwargs = {}\n",
    "    \n",
    "else:\n",
    "    helm_k = 1.2\n",
    "    knl = HelmholtzKernel(2)\n",
    "    extra_kernel_kwargs={\"k\": helm_k}\n",
    "\n",
    "    pde = [(1, (2,0)), (1, (0, 2)), (helm_k**2, (0, 0))]\n",
    "\n",
    "mpole_expn = VolumeTaylorMultipoleExpansion(knl, order)\n",
    "local_expn = VolumeTaylorLocalExpansion(knl, order)\n",
    "\n",
    "cl_ctx = cl.create_some_context(answers=[\"port\"])\n",
    "\n",
    "tctx = t.ToyContext(\n",
    "        cl_ctx,\n",
    "        knl,\n",
    "        mpole_expn_class=type(mpole_expn),\n",
    "        local_expn_class=type(local_expn),\n",
    "        extra_kernel_kwargs=extra_kernel_kwargs,\n",
    "        )\n"
   ]
  },
  {
   "cell_type": "code",
   "execution_count": 36,
   "metadata": {},
   "outputs": [],
   "source": [
    "pt_src = t.PointSources(\n",
    "        tctx,\n",
    "        np.random.rand(2, 50) - 0.5,\n",
    "        np.ones(50))\n",
    "\n",
    "mexp = t.multipole_expand(pt_src, [0, 0], order)"
   ]
  },
  {
   "cell_type": "code",
   "execution_count": 37,
   "metadata": {},
   "outputs": [
    {
     "data": {
      "text/plain": [
       "array([  5.00000000e+01,   4.76258789e+00,   6.63902810e-01,\n",
       "         2.17149444e+00,   6.22396090e-01,   2.36567252e+00,\n",
       "         5.93173776e-02,   6.33392972e-02,   1.15590385e-01,\n",
       "         2.35250166e-02,   2.60421537e-02,   1.58948983e-02,\n",
       "         9.97399769e-02,   1.12510066e-02,   3.13387666e-02])"
      ]
     },
     "execution_count": 37,
     "metadata": {},
     "output_type": "execute_result"
    }
   ],
   "source": [
    "mexp.coeffs"
   ]
  },
  {
   "cell_type": "code",
   "execution_count": 38,
   "metadata": {},
   "outputs": [],
   "source": [
    "def build_pde_mat(expn, pde):\n",
    "    coeff_ids = expn.get_coefficient_identifiers()\n",
    "    id_to_index = expn._storage_loc_dict\n",
    "    \n",
    "    # FIXME: specific to scalar PDEs\n",
    "    pde_mat = np.zeros((len(coeff_ids), len(coeff_ids)))\n",
    "    \n",
    "    row = 0\n",
    "    for base_coeff_id in coeff_ids:\n",
    "        valid = True\n",
    "        \n",
    "        for pde_coeff, coeff_id_offset in pde:\n",
    "            other_coeff = add_tuples(base_coeff_id, coeff_id_offset)\n",
    "            if not other_coeff in id_to_index:\n",
    "                valid = False\n",
    "                break\n",
    "                \n",
    "            pde_mat[row, id_to_index[other_coeff]] = pde_coeff\n",
    "                \n",
    "        if valid:\n",
    "            row += 1\n",
    "        else:\n",
    "            pde_mat[row] = 0\n",
    "            \n",
    "    return pde_mat[:row]\n",
    "\n",
    "pde_mat = build_pde_mat(mpole_expn, pde)"
   ]
  },
  {
   "cell_type": "code",
   "execution_count": 39,
   "metadata": {},
   "outputs": [],
   "source": [
    "def find_nullspace(mat, tol=1e-10):\n",
    "    u, sig, vt = la.svd(pde_mat, full_matrices=True)\n",
    "    zerosig = np.where(np.abs(sig) < tol)[0]\n",
    "    if zerosig:\n",
    "        nullsp_start = zerosig[0]\n",
    "        assert np.array_equal(zerosig, np.arange(nullsp_start, pde_mat.shape[1]))\n",
    "    else:\n",
    "        nullsp_start = pde_mat.shape[0]\n",
    "                              \n",
    "    return vt[nullsp_start:].T\n",
    "    \n",
    "nullsp = find_nullspace(pde_mat)"
   ]
  },
  {
   "cell_type": "code",
   "execution_count": 40,
   "metadata": {},
   "outputs": [
    {
     "data": {
      "text/plain": [
       "4.3183836498795062e-16"
      ]
     },
     "execution_count": 40,
     "metadata": {},
     "output_type": "execute_result"
    }
   ],
   "source": [
    "la.norm(pde_mat @ nullsp)"
   ]
  },
  {
   "cell_type": "code",
   "execution_count": 41,
   "metadata": {},
   "outputs": [],
   "source": [
    "def build_translation_mat(mexp, to_center):\n",
    "    n = len(mexp.coeffs)\n",
    "    result = np.zeros((n, n))\n",
    "    \n",
    "    for j in range(n):\n",
    "        unit_coeffs = np.zeros(n)\n",
    "        unit_coeffs[j] = 1\n",
    "        unit_mexp = mexp.with_coeffs(unit_coeffs)\n",
    "        \n",
    "        result[:, j] = t.multipole_expand(unit_mexp, to_center).coeffs\n",
    "        \n",
    "    return result\n",
    "\n",
    "new_center = np.array([0, 0.5])\n",
    "tmat = build_translation_mat(mexp, new_center)"
   ]
  },
  {
   "cell_type": "code",
   "execution_count": 42,
   "metadata": {},
   "outputs": [
    {
     "data": {
      "text/plain": [
       "<matplotlib.image.AxesImage at 0x7f7f8841ceb8>"
      ]
     },
     "execution_count": 42,
     "metadata": {},
     "output_type": "execute_result"
    },
    {
     "data": {
      "image/png": "[encoded data removed]",
      "text/plain": [
       "<matplotlib.figure.Figure at 0x7f7f42944978>"
      ]
     },
     "metadata": {},
     "output_type": "display_data"
    }
   ],
   "source": [
    "plt.imshow(tmat)"
   ]
  },
  {
   "cell_type": "code",
   "execution_count": 43,
   "metadata": {},
   "outputs": [
    {
     "data": {
      "text/plain": [
       "(15, 9)"
      ]
     },
     "execution_count": 43,
     "metadata": {},
     "output_type": "execute_result"
    }
   ],
   "source": [
    "nullsp.shape"
   ]
  },
  {
   "cell_type": "code",
   "execution_count": 69,
   "metadata": {},
   "outputs": [],
   "source": [
    "if 0:\n",
    "    reduction_mat = nullsp.T\n",
    "    expansion_mat = nullsp\n",
    "elif 1:\n",
    "    chosen_indices_and_coeff_ids = [\n",
    "        (i, cid) for i, cid in enumerate(mpole_expn.get_coefficient_identifiers())\n",
    "        if cid[0] < 2\n",
    "    ]\n",
    "    chosen_indices = [idx for idx, _ in chosen_indices_and_coeff_ids]\n",
    "    \n",
    "    expansion_mat = np.zeros(\n",
    "        (len(mpole_expn.get_coefficient_identifiers()), len(chosen_indices_and_coeff_ids))\n",
    "        )\n",
    "    for i, (idx, _) in enumerate(chosen_indices_and_coeff_ids):\n",
    "        expansion_mat[idx, i] = 1\n",
    "        \n",
    "    reduction_mat = (nullsp @ la.inv(nullsp[chosen_indices])).T"
   ]
  },
  {
   "cell_type": "code",
   "execution_count": 70,
   "metadata": {},
   "outputs": [],
   "source": [
    "def plot_coeffs(expn, coeffs, **kwargs):\n",
    "    x = [cid[0] for cid in expn.get_coefficient_identifiers()]\n",
    "    y = [cid[1] for cid in expn.get_coefficient_identifiers()]\n",
    "    plt.scatter(x, y, c=coeffs, **kwargs)\n",
    "    plt.colorbar()\n",
    "\n",
    "    for cid, coeff in zip(expn.get_coefficient_identifiers(), coeffs):\n",
    "        plt.text(cid[0], cid[1]+0.2, \"%.1f\" % coeff)\n"
   ]
  },
  {
   "cell_type": "code",
   "execution_count": 71,
   "metadata": {},
   "outputs": [
    {
     "data": {
      "image/png": "[encoded data removed]",
      "text/plain": [
       "<matplotlib.figure.Figure at 0x7f7f41cd8240>"
      ]
     },
     "metadata": {},
     "output_type": "display_data"
    }
   ],
   "source": [
    "proj_mexp = mexp.with_coeffs(expansion_mat @ reduction_mat @ mexp.coeffs)\n",
    "\n",
    "proj_resid = proj_mexp.coeffs - mexp.coeffs\n",
    "\n",
    "plot_coeffs(mpole_expn, np.log10(1e-15+np.abs(proj_resid)), vmin=-15, vmax=2)"
   ]
  },
  {
   "cell_type": "code",
   "execution_count": 72,
   "metadata": {},
   "outputs": [
    {
     "name": "stdout",
     "output_type": "stream",
     "text": [
      "2.80866677486e-15\n"
     ]
    }
   ],
   "source": [
    "print(t.l_inf(proj_mexp - mexp, 1.2, center=[3,0]))"
   ]
  },
  {
   "cell_type": "code",
   "execution_count": 73,
   "metadata": {},
   "outputs": [
    {
     "name": "stdout",
     "output_type": "stream",
     "text": [
      "0.0116062369243\n"
     ]
    }
   ],
   "source": [
    "trans_unproj = t.multipole_expand(mexp, new_center)\n",
    "trans_proj = t.multipole_expand(proj_mexp, new_center)\n",
    "\n",
    "print(t.l_inf(trans_unproj - trans_proj, 1.2, center=[3,0]))"
   ]
  },
  {
   "cell_type": "code",
   "execution_count": 74,
   "metadata": {},
   "outputs": [
    {
     "name": "stdout",
     "output_type": "stream",
     "text": [
      "[-3.07295099 -0.08541702 -1.62768408 -2.17149444 -0.06559717 -2.66984178\n",
      " -0.05931738 -1.14908652 -0.08143883 -1.25881949 -0.02604215 -0.04555359\n",
      " -0.40284643 -0.05019419 -0.39528495]\n"
     ]
    }
   ],
   "source": [
    "print(trans_proj.coeffs - trans_unproj.coeffs)"
   ]
  },
  {
   "cell_type": "code",
   "execution_count": 75,
   "metadata": {},
   "outputs": [
    {
     "data": {
      "text/plain": [
       "0.1169116976203841"
      ]
     },
     "execution_count": 75,
     "metadata": {},
     "output_type": "execute_result"
    }
   ],
   "source": [
    "la.norm(reduction_mat @ (trans_proj.coeffs - trans_unproj.coeffs))"
   ]
  },
  {
   "cell_type": "code",
   "execution_count": 76,
   "metadata": {},
   "outputs": [
    {
     "data": {
      "text/plain": [
       "0.011804658035654577"
      ]
     },
     "execution_count": 76,
     "metadata": {},
     "output_type": "execute_result"
    }
   ],
   "source": [
    "t.l_inf(trans_unproj - pt_src, 1.2, center=[3, 0])"
   ]
  },
  {
   "cell_type": "code",
   "execution_count": 77,
   "metadata": {},
   "outputs": [
    {
     "data": {
      "text/plain": [
       "0.00029429326299543407"
      ]
     },
     "execution_count": 77,
     "metadata": {},
     "output_type": "execute_result"
    }
   ],
   "source": [
    "t.l_inf(mexp - pt_src, 1.2, center=[3, 0])"
   ]
  },
  {
   "cell_type": "code",
   "execution_count": null,
   "metadata": {
    "collapsed": true
   },
   "outputs": [],
   "source": []
  }
 ],
 "metadata": {
  "kernelspec": {
   "display_name": "Python 3",
   "language": "python",
   "name": "python3"
  },
  "language_info": {
   "codemirror_mode": {
    "name": "ipython",
    "version": 3
   },
   "file_extension": ".py",
   "mimetype": "text/x-python",
   "name": "python",
   "nbconvert_exporter": "python",
   "pygments_lexer": "ipython3",
   "version": "3.6.4+"
  }
 },
 "nbformat": 4,
 "nbformat_minor": 2
}
